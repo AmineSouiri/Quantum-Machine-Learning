{
  "cells": [
    {
      "cell_type": "code",
      "execution_count": null,
      "metadata": {
        "collapsed": false
      },
      "outputs": [],
      "source": [
        "# This cell is added by sphinx-gallery\n# It can be customized to whatever you like\n%matplotlib inline"
      ]
    },
    {
      "cell_type": "markdown",
      "metadata": {},
      "source": [
        "Learning to learn with quantum neural networks\n==============================================\n\n::: {.meta}\n:property=\\\"og:description\\\": Use a classical recurrent neural network\nto initilize the parameters of a variational quatum algorithm.\n:property=\\\"og:image\\\": ../demonstrations/learning2learn/thumbnail.png\n:::\n\n::: {.related}\ntutorial\\_qaoa\\_intro QAOA tutorial\\_qaoa\\_maxcut QAOA for MaxCut\nproblem\n:::\n\n*Author: Stefano Mangini (mangini.stfn\\@gmail.com). Posted: 2 March\n2021. Last updated: 15 Sep 2021.*\n\nIn this demo we recreate the architecture proposed in *Learning to learn\nwith quantum neural networks via classical neural networks*, using\n**PennyLane** and **TensorFlow**. We use classical recurrent neural\nnetworks to assist the optimization of variational quantum algorithms.\n\nWe start with a brief theoretical overview explaining the problem and\nthe setup used to solve it. After that, we deep dive into the code to\nbuild a fully functioning model, ready to be further developed or\ncustomized for your own needs. Without further ado, let's begin!\n\nProblem: Optimization of Variational Quantum Algorithms\n-------------------------------------------------------\n\nRecently, a big effort by the quantum computing community has been\ndevoted to the study of variational quantum algorithms (VQAs) which\nleverage quantum circuits with fixed shape and tunable parameters. The\nidea is similar to classical neural networks, where the weights of the\nnetwork are optimized during training. Similarly, once the shape of the\nvariational quantum circuit is chosen --- something that is very\ndifficult and sensitive to the particular task at hand --- its tunable\nparameters are optimized iteratively by minimizing a cost (or loss)\nfunction, which measures how good the quantum algorithm is performing\n(see for a thorough overview on VQAs).\n\nA major challenge for VQAs relates to the optimization of tunable\nparameters, which was shown to be a very hard task, . Parameter\ninitialization plays a key role in this scenario, since initializing the\nparameters in the proximity of an optimal solution leads to faster\nconvergence and better results. Thus, a good initialization strategy is\ncrucial to promote the convergence of local optimizers to local extrema\nand to select reasonably good local minima. By local optimizer, we mean\na procedure that moves from one solution to another by small (local)\nchanges in parameter space. These are opposed to global search methods,\nwhich take into account large sections of parameter space to propose a\nnew solution.\n\nOne such strategy could come from the classical machine learning\nliterature.\n\nSolution: Classical Recurrent Neural Networks\n---------------------------------------------\n\nBy building on results from the *meta-learning* literature in machine\nlearning, authors in propose to use a Recurrent Neural Network (RNN) as\na black-box controller to optimize the parameters of variational quantum\nalgorithms, as shown in the figure below. The cost function used is the\nexpectation value\n$\\langle H \\rangle_{\\boldsymbol{\\theta}} = \\langle \\psi_{\\boldsymbol{\\theta}} | H | \\psi_{\\boldsymbol{\\theta}}\\rangle$\nof a Hamiltonian $H$ with respect to the parametrized state\n$|\\psi_\\boldsymbol{\\theta}\\rangle$ evolved by applying the variational\nquantum circuit to the zero state $|00\\cdots0\\rangle$.\n\n![](../demonstrations/learning2learn/HybridLSTM.png){.align-center\nwidth=\"100.0%\"}\n\nGiven parameters $\\boldsymbol{\\theta}_{t-1}$ of the variational quantum\ncircuit, the cost function $y_{t-1}$, and the hidden state of the\nclassical network $\\boldsymbol{h}_{t-1}$ at the previous time step, the\nrecurrent neural network proposes a new guess for the parameters\n$\\boldsymbol{\\theta}_t$, which are then fed into the quantum computer to\nevaluate the cost function $y_t$. By repeating this cycle a few times,\nand by training the weights of the recurrent neural network to minimize\nthe loss function $y_t$, a good initialization heuristic is found for\nthe parameters $\\boldsymbol{\\theta}$ of the variational quantum circuit.\n\nAt a given iteration, the RNN receives as input the previous cost\nfunction $y_t$ evaluated on the quantum computer, where $y_t$ is the\nestimate of $\\langle H\\rangle_{t}$, as well as the parameters\n$\\boldsymbol{\\theta}_t$ for which the variational circuit was evaluated.\nThe RNN at this time step also receives information stored in its\ninternal hidden state from the previous time step $\\boldsymbol{h}_t$.\nThe RNN itself has trainable parameters $\\phi$, and hence it applies the\nparametrized mapping:\n\n$$\\boldsymbol{h}_{t+1}, \\boldsymbol{\\theta}_{t+1} = \\text{RNN}_{\\phi}(\\boldsymbol{h}_{t}, \\boldsymbol{\\theta}_{t}, y_{t}),$$\n\nwhich generates a new suggestion for the variational parameters as well\nas a new internal state. Upon training the weights $\\phi$, the RNN\neventually learns a good heuristic to suggest optimal parameters for the\nquantum circuit.\n\nThus, by training on a dataset of graphs, the RNN can subsequently be\nused to provide suggestions for starting points on new graphs! We are\nnot directly optimizing the variational parameters of the quantum\ncircuit, but instead, we let the RNN figure out how to do that. In this\nsense, we are learning (training the RNN) how to learn (how to optimize\na variational quantum circuit).\n\n**VQAs in focus: QAOA for MaxCut**\n\nThere are multiple VQAs for which this hybrid training routine could be\nused, some of them directly analyzed in. In the following, we focus on\none such example, the Quantum Approximate Optimization Algorithm (QAOA)\nfor solving the MaxCut problem. Thus, referring to the picture above,\nthe shape of the variational circuit is the one dictated by the QAOA\nansatz, and such a quantum circuit is used to evaluate the cost\nHamiltonian $H$ of the MaxCut problem. Check out this great tutorial on\nhow to use QAOA for solving graph problems:\n<https://pennylane.ai/qml/demos/tutorial_qaoa_intro.html>\n\n::: {.note}\n::: {.title}\nNote\n:::\n\nRunning the tutorial (excluding the Appendix) requires approx. \\~13m.\n:::\n"
      ]
    },
    {
      "cell_type": "markdown",
      "metadata": {},
      "source": [
        "**Importing the required packages**\n\nDuring this tutorial, we will use **PennyLane** for executing quantum\ncircuits and for integrating seamlessly with **TensorFlow**, which will\nbe used for creating the RNN.\n"
      ]
    },
    {
      "cell_type": "code",
      "execution_count": null,
      "metadata": {
        "collapsed": false
      },
      "outputs": [],
      "source": [
        "# Quantum Machine Learning\nimport pennylane as qml\nfrom pennylane import qaoa\n\n# Classical Machine Learning\nimport tensorflow as tf\n\n# Generation of graphs\nimport networkx as nx\n\n# Standard Python libraries\nimport numpy as np\nimport matplotlib.pyplot as plt\nimport random\n\n# Fix the seed for reproducibility, which affects all random functions in this demo\nrandom.seed(42)\nnp.random.seed(42)\ntf.random.set_seed(42)"
      ]
    },
    {
      "cell_type": "markdown",
      "metadata": {},
      "source": [
        "Generation of training data: graphs\n===================================\n\nThe first step is to gather or create a good dataset that will be used\nto train the model and test its performance. In our case, we are\nanalyzing MaxCut, which deals with the problem of finding a good binary\npartition of nodes in a graph such that the number of edges *cut* by\nsuch a separation is maximized. We start by generating some random\ngraphs $G_{n,p}$ where:\n\n-   $n$ is the number of nodes in each graph,\n-   $p$ is the probability of having an edge between two nodes.\n"
      ]
    },
    {
      "cell_type": "code",
      "execution_count": null,
      "metadata": {
        "collapsed": false
      },
      "outputs": [],
      "source": [
        "def generate_graphs(n_graphs, n_nodes, p_edge):\n    \"\"\"Generate a list containing random graphs generated by Networkx.\"\"\"\n\n    datapoints = []\n    for _ in range(n_graphs):\n        random_graph = nx.gnp_random_graph(n_nodes, p=p_edge)\n        datapoints.append(random_graph)\n    return datapoints"
      ]
    },
    {
      "cell_type": "markdown",
      "metadata": {},
      "source": [
        "An example of a random graph generated using the function\n`generate_graphs` just defined:\n"
      ]
    },
    {
      "cell_type": "code",
      "execution_count": null,
      "metadata": {
        "collapsed": false
      },
      "outputs": [],
      "source": [
        "# Define parameters of the graphs\nn_graphs = 20\nn_nodes = 7\np_edge = 3.0 / n_nodes\ngraphs = generate_graphs(n_graphs, n_nodes, p_edge)\n\nnx.draw(graphs[0])"
      ]
    },
    {
      "cell_type": "markdown",
      "metadata": {},
      "source": [
        "![](../demonstrations/learning2learn/rendered_Graph0.png){.align-center\nwidth=\"70.0%\"}\n"
      ]
    },
    {
      "cell_type": "markdown",
      "metadata": {},
      "source": [
        "Variational Quantum Circuit: QAOA\n=================================\n\nNow that we have a dataset, we move on by creating the QAOA quantum\ncircuits using PennyLane's built-in sub-packages. In particular, using\nPennyLane's `qaoa` module, we will able to create fully functioning\nquantum circuits for the MaxCut problem, with very few lines of code.\n"
      ]
    },
    {
      "cell_type": "code",
      "execution_count": null,
      "metadata": {
        "collapsed": false
      },
      "outputs": [],
      "source": [
        "def qaoa_from_graph(graph, n_layers=1):\n    \"\"\"Uses QAOA to create a cost Hamiltonian for the MaxCut problem.\"\"\"\n\n    # Number of qubits (wires) equal to the number of nodes in the graph\n    wires = range(len(graph.nodes))\n\n    # Define the structure of the cost and mixer subcircuits for the MaxCut problem\n    cost_h, mixer_h = qaoa.maxcut(graph)\n\n    # Defines a layer of the QAOA ansatz from the cost and mixer Hamiltonians\n    def qaoa_layer(gamma, alpha):\n        qaoa.cost_layer(gamma, cost_h)\n        qaoa.mixer_layer(alpha, mixer_h)\n\n    # Creates the actual quantum circuit for the QAOA algorithm\n    def circuit(params, **kwargs):\n        for w in wires:\n            qml.Hadamard(wires=w)\n        qml.layer(qaoa_layer, n_layers, params[0], params[1])\n        return qml.expval(cost_h)\n\n    # Evaluates the cost Hamiltonian\n    def hamiltonian(params, **kwargs):\n        \"\"\"Evaluate the cost Hamiltonian, given the angles and the graph.\"\"\"\n\n        # We set the default.qubit.tf device for seamless integration with TensorFlow\n        dev = qml.device(\"default.qubit.tf\", wires=len(graph.nodes))\n\n        # This qnode evaluates the expectation value of the cost hamiltonian operator\n        cost = qml.QNode(circuit, dev, interface=\"tf\", diff_method=\"backprop\")\n\n        return cost(params)\n\n    return hamiltonian"
      ]
    },
    {
      "cell_type": "markdown",
      "metadata": {},
      "source": [
        "Before continuing, let's see how to use these functions.\n"
      ]
    },
    {
      "cell_type": "code",
      "execution_count": null,
      "metadata": {
        "collapsed": false
      },
      "outputs": [],
      "source": [
        "# Create an instance of a QAOA circuit given a graph.\ncost = qaoa_from_graph(graph=graphs[0], n_layers=1)\n\n# Since we use only one layer in QAOA, params have the shape 1 x 2,\n# in the form [[alpha, gamma]].\nx = tf.Variable([[0.5], [0.5]], dtype=tf.float32)\n\n# Evaluate th QAOA instance just created with some angles.\nprint(cost(x))"
      ]
    },
    {
      "cell_type": "markdown",
      "metadata": {},
      "source": [
        "::: {.rst-class}\nsphx-glr-script-out\n\nOut:\n\n``` {.none}\ntf.Tensor(-3.193267957255582, shape=(), dtype=float64)\n```\n:::\n"
      ]
    },
    {
      "cell_type": "markdown",
      "metadata": {},
      "source": [
        "Recurrent Neural Network: LSTM\n==============================\n\nSo far, we have defined the machinery which lets us build the QAOA\nalgorithm for solving the MaxCut problem. Now we wish to implement the\nRecurrent Neural Network architecture explained previously. As proposed\nin the original paper, we will build a custom model of a Long-Short Term\nMemory (LSTM) network, capable of handling the hybrid data passing\nbetween classical and quantum procedures. For this task, we will use\n`Keras` and `TensorFlow`.\n"
      ]
    },
    {
      "cell_type": "markdown",
      "metadata": {},
      "source": [
        "First of all, let's define the elemental building block of the model, an\nLSTM cell (see [TensorFlow\ndocumentation](https://www.tensorflow.org/api_docs/python/tf/keras/layers/LSTMCell)\nfor further details).\n"
      ]
    },
    {
      "cell_type": "code",
      "execution_count": null,
      "metadata": {
        "collapsed": false
      },
      "outputs": [],
      "source": [
        "# Set the number of layers in the QAOA ansatz.\n# The higher the better in terms of performance, but it also gets more\n# computationally expensive. For simplicity, we stick to the single layer case.\nn_layers = 1\n\n# Define a single LSTM cell.\n# The cell has two units per layer since each layer in the QAOA ansatz\n# makes use of two parameters.\ncell = tf.keras.layers.LSTMCell(2 * n_layers)"
      ]
    },
    {
      "cell_type": "markdown",
      "metadata": {},
      "source": [
        "Using the `qaoa_from_graph` function, we create a list `graph_cost_list`\ncontaining the cost functions of a set of graphs. You can see this as a\npreprocessing step of the data.\n"
      ]
    },
    {
      "cell_type": "code",
      "execution_count": null,
      "metadata": {
        "collapsed": false
      },
      "outputs": [],
      "source": [
        "# We create the QAOA MaxCut cost functions of some graphs\ngraph_cost_list = [qaoa_from_graph(g) for g in graphs]"
      ]
    },
    {
      "cell_type": "markdown",
      "metadata": {},
      "source": [
        "At this stage, we seek to reproduce the recurrent behavior depicted in\nthe picture above, outlining the functioning of an RNN as a black-box\noptimizer. We do so by defining two functions:\n\n-   `rnn_iteration`: accounts for the computations happening on a single\n    time step in the figure. It performs the calculation inside the CPU\n    and evaluates the quantum circuit on the QPU to obtain the loss\n    function for the current parameters.\n-   `recurrent_loop`: as the name suggests, it accounts for the creation\n    of the recurrent loop of the model. In particular, it makes\n    consecutive calls to the `rnn_iteration` function, where the outputs\n    of a previous call are fed as inputs of the next call.\n"
      ]
    },
    {
      "cell_type": "code",
      "execution_count": null,
      "metadata": {
        "collapsed": false
      },
      "outputs": [],
      "source": [
        "def rnn_iteration(inputs, graph_cost, n_layers=1):\n    \"\"\"Perform a single time step in the computational graph of the custom RNN.\"\"\"\n\n    # Unpack the input list containing the previous cost, parameters,\n    # and hidden states (denoted as 'h' and 'c').\n    prev_cost = inputs[0]\n    prev_params = inputs[1]\n    prev_h = inputs[2]\n    prev_c = inputs[3]\n\n    # Concatenate the previous parameters and previous cost to create new input\n    new_input = tf.keras.layers.concatenate([prev_cost, prev_params])\n\n    # Call the LSTM cell, which outputs new values for the parameters along\n    # with new internal states h and c\n    new_params, [new_h, new_c] = cell(new_input, states=[prev_h, prev_c])\n\n    # Reshape the parameters to correctly match those expected by PennyLane\n    _params = tf.reshape(new_params, shape=(2, n_layers))\n\n    # Evaluate the cost using new angles\n    _cost = graph_cost(_params)\n\n    # Reshape to be consistent with other tensors\n    new_cost = tf.reshape(tf.cast(_cost, dtype=tf.float32), shape=(1, 1))\n\n    return [new_cost, new_params, new_h, new_c]\n\n\ndef recurrent_loop(graph_cost, n_layers=1, intermediate_steps=False):\n    \"\"\"Creates the recurrent loop for the Recurrent Neural Network.\"\"\"\n\n    # Initialize starting all inputs (cost, parameters, hidden states) as zeros.\n    initial_cost = tf.zeros(shape=(1, 1))\n    initial_params = tf.zeros(shape=(1, 2 * n_layers))\n    initial_h = tf.zeros(shape=(1, 2 * n_layers))\n    initial_c = tf.zeros(shape=(1, 2 * n_layers))\n\n    # We perform five consecutive calls to 'rnn_iteration', thus creating the\n    # recurrent loop. More iterations lead to better results, at the cost of\n    # more computationally intensive simulations.\n    out0 = rnn_iteration([initial_cost, initial_params, initial_h, initial_c], graph_cost)\n    out1 = rnn_iteration(out0, graph_cost)\n    out2 = rnn_iteration(out1, graph_cost)\n    out3 = rnn_iteration(out2, graph_cost)\n    out4 = rnn_iteration(out3, graph_cost)\n\n    # This cost function takes into account the cost from all iterations,\n    # but using different weights.\n    loss = tf.keras.layers.average(\n        [0.1 * out0[0], 0.2 * out1[0], 0.3 * out2[0], 0.4 * out3[0], 0.5 * out4[0]]\n    )\n\n    if intermediate_steps:\n        return [out0[1], out1[1], out2[1], out3[1], out4[1], loss]\n    else:\n        return loss"
      ]
    },
    {
      "cell_type": "markdown",
      "metadata": {},
      "source": [
        "**The cost function**\n\nA key part in the `recurrent_loop` function is given by the definition\nof the variable `loss`. In order to drive the learning procedure of the\nweights in the LSTM cell, a cost function is needed. While in the\noriginal paper the authors suggest using a measure called *observed\nimprovement*, for simplicity here we use an easier cost function\n$\\cal{L}(\\phi)$ defined as:\n\n$$\\cal{L}(\\phi) = {\\bf w} \\cdot {\\bf y}_t(\\phi),$$\n\nwhere ${\\bf y}_t(\\phi) = (y_1, \\cdots, y_5)$ contains the Hamiltonian\ncost functions from all iterations, and ${\\bf w}$ are just some\ncoefficients weighting the different steps in the recurrent loop. In\nthis case, we used ${\\bf w}=\\frac{1}{5} (0.1, 0.2, 0.3, 0.4, 0.5)$, to\ngive more importance to the last steps rather than the initial steps.\nIntuitively in this way the RNN is more free (low coefficient) to\nexplore a larger portion of parameter space during the first steps of\noptimization, while it is constrained (high coefficient) to select an\noptimal solution towards the end of the procedure. Note that one could\nalso use just the final cost function from the last iteration to drive\nthe training procedure of the RNN. However, using values also from\nintermediate steps allows for a smoother suggestion routine, since even\nnon-optimal parameter suggestions from early steps are penalized using\n$\\cal{L}(\\phi)$.\n"
      ]
    },
    {
      "cell_type": "markdown",
      "metadata": {},
      "source": [
        "**Training**\n\nNow all the cards are on the table and we just need to prepare a\ntraining routine and then run it!\n\nFirst of all, let's wrap a single gradient descent step inside a custom\nfunction `train_step`.\n"
      ]
    },
    {
      "cell_type": "code",
      "execution_count": null,
      "metadata": {
        "collapsed": false
      },
      "outputs": [],
      "source": [
        "def train_step(graph_cost):\n    \"\"\"Single optimization step in the training procedure.\"\"\"\n\n    with tf.GradientTape() as tape:\n        # Evaluates the cost function\n        loss = recurrent_loop(graph_cost)\n\n    # Evaluates gradients, cell is the LSTM cell defined previously\n    grads = tape.gradient(loss, cell.trainable_weights)\n\n    # Apply gradients and update the weights of the LSTM cell\n    opt.apply_gradients(zip(grads, cell.trainable_weights))\n    return loss"
      ]
    },
    {
      "cell_type": "markdown",
      "metadata": {},
      "source": [
        "We are now ready to start the training. In particular, we will perform a\nstochastic gradient descent in the parameter space of the weights of the\nLSTM cell. For each graph in the training set, we evaluate gradients and\nupdate the weights accordingly. Then, we repeat this procedure for\nmultiple times (epochs).\n\n::: {.note}\n::: {.title}\nNote\n:::\n\nBe careful when using bigger datasets or training for larger epochs,\nthis may take a while to execute.\n:::\n"
      ]
    },
    {
      "cell_type": "code",
      "execution_count": null,
      "metadata": {
        "collapsed": false
      },
      "outputs": [],
      "source": [
        "# Select an optimizer\nopt = tf.keras.optimizers.Adam(learning_rate=0.1)\n\n# Set the number of training epochs\nepochs = 5\n\nfor epoch in range(epochs):\n    print(f\"Epoch {epoch+1}\")\n    total_loss = np.array([])\n    for i, graph_cost in enumerate(graph_cost_list):\n        loss = train_step(graph_cost)\n        total_loss = np.append(total_loss, loss.numpy())\n        # Log every 5 batches.\n        if i % 5 == 0:\n            print(f\" > Graph {i+1}/{len(graph_cost_list)} - Loss: {loss[0][0]}\")\n    print(f\" >> Mean Loss during epoch: {np.mean(total_loss)}\")"
      ]
    },
    {
      "cell_type": "markdown",
      "metadata": {},
      "source": [
        "::: {.rst-class}\nsphx-glr-script-out\n\nOut:\n\n``` {.none}\nEpoch 1\n > Graph 1/20 - Loss: -1.6641689538955688\n > Graph 6/20 - Loss: -1.4186843633651733\n > Graph 11/20 - Loss: -1.3757232427597046\n > Graph 16/20 - Loss: -1.294339656829834\n >> Mean Loss during epoch: -1.7352586269378663\nEpoch 2\n > Graph 1/20 - Loss: -2.119091749191284\n > Graph 6/20 - Loss: -1.4789190292358398\n > Graph 11/20 - Loss: -1.3779840469360352\n > Graph 16/20 - Loss: -1.2963457107543945\n >> Mean Loss during epoch: -1.8252217948436738\nEpoch 3\n > Graph 1/20 - Loss: -2.1322619915008545\n > Graph 6/20 - Loss: -1.459418535232544\n > Graph 11/20 - Loss: -1.390620470046997\n > Graph 16/20 - Loss: -1.3165746927261353\n >> Mean Loss during epoch: -1.8328069806098939\nEpoch 4\n > Graph 1/20 - Loss: -2.1432175636291504\n > Graph 6/20 - Loss: -1.476362943649292\n > Graph 11/20 - Loss: -1.3938289880752563\n > Graph 16/20 - Loss: -1.3140206336975098\n >> Mean Loss during epoch: -1.8369774043560028\nEpoch 5\n > Graph 1/20 - Loss: -2.1429405212402344\n > Graph 6/20 - Loss: -1.477513074874878\n > Graph 11/20 - Loss: -1.3909202814102173\n > Graph 16/20 - Loss: -1.315887689590454\n >> Mean Loss during epoch: -1.8371947884559632\n```\n:::\n"
      ]
    },
    {
      "cell_type": "markdown",
      "metadata": {},
      "source": [
        "As you can see, the Loss for each graph keeps decreasing across epochs,\nindicating that the training routine is working correctly.\n"
      ]
    },
    {
      "cell_type": "markdown",
      "metadata": {},
      "source": [
        "Results\n=======\n\nLet's see how to use the optimized RNN as an initializer for the angles\nin the QAOA algorithm.\n\nFirst, we pick a new graph, not present in the training dataset:\n"
      ]
    },
    {
      "cell_type": "code",
      "execution_count": null,
      "metadata": {
        "collapsed": false
      },
      "outputs": [],
      "source": [
        "new_graph = nx.gnp_random_graph(7, p=3 / 7)\nnew_cost = qaoa_from_graph(new_graph)\n\nnx.draw(new_graph)"
      ]
    },
    {
      "cell_type": "markdown",
      "metadata": {},
      "source": [
        "![](../demonstrations/learning2learn/rendered_Graph1.png){.align-center\nwidth=\"70.0%\"}\n"
      ]
    },
    {
      "cell_type": "markdown",
      "metadata": {},
      "source": [
        "Then we apply the trained RNN to this new graph, saving intermediate\nresults coming from all the recurrent iterations in the network.\n"
      ]
    },
    {
      "cell_type": "code",
      "execution_count": null,
      "metadata": {
        "collapsed": false
      },
      "outputs": [],
      "source": [
        "# Apply the RNN (be sure that training was performed)\nres = recurrent_loop(new_cost, intermediate_steps=True)\n\n# Extract all angle suggestions\nstart_zeros = tf.zeros(shape=(2 * n_layers, 1))\nguess_0 = res[0]\nguess_1 = res[1]\nguess_2 = res[2]\nguess_3 = res[3]\nguess_4 = res[4]\nfinal_loss = res[5]\n\n# Wrap them into a list\nguesses = [start_zeros, guess_0, guess_1, guess_2, guess_3, guess_4]\n\n# Losses from the hybrid LSTM model\nlstm_losses = [new_cost(tf.reshape(guess, shape=(2, n_layers))) for guess in guesses]"
      ]
    },
    {
      "cell_type": "markdown",
      "metadata": {},
      "source": [
        "**Plot of the loss function**\n\nWe can plot these losses to see how well the RNN proposes new guesses\nfor the parameters.\n"
      ]
    },
    {
      "cell_type": "code",
      "execution_count": null,
      "metadata": {
        "collapsed": false
      },
      "outputs": [],
      "source": [
        "fig, ax = plt.subplots()\n\nplt.plot(lstm_losses, color=\"blue\", lw=3, ls=\"-.\", label=\"LSTM\")\n\nplt.grid(ls=\"--\", lw=2, alpha=0.25)\nplt.ylabel(\"Cost function\", fontsize=12)\nplt.xlabel(\"Iteration\", fontsize=12)\nplt.legend()\nax.set_xticks([0, 5, 10, 15, 20]);\nplt.show()"
      ]
    },
    {
      "cell_type": "markdown",
      "metadata": {},
      "source": [
        "![](../demonstrations/learning2learn/rendered_LossLSTM.png){.align-center\nwidth=\"70.0%\"}\n\nThat's remarkable! The RNN learned to propose new parameters such that\nthe MaxCut cost is minimized very rapidly: in just a few iterations the\nloss reaches a minimum. Actually, it takes just a single step for the\nLSTM to find a very good minimum. In fact, due to the recurrent loop,\nthe loss in each time step is directly dependent on the previous ones,\nwith the first iteration thus having a lot of influence on the loss\nfunction defined above. Changing the loss function, for example giving\nless importance to initial steps and just focusing on the last one,\nleads to different optimization behaviors, but with the same final\nresults.\n"
      ]
    },
    {
      "cell_type": "markdown",
      "metadata": {},
      "source": [
        "**Comparison with standard Stochastic Gradient Descent (SGD)**\n\nHow well does this method compare with standard optimization techniques,\nfor example, leveraging Stochastic Gradient Descent (SGD) to optimize\nthe parameters in the QAOA?\n\nLet's check it out.\n"
      ]
    },
    {
      "cell_type": "code",
      "execution_count": null,
      "metadata": {
        "collapsed": false
      },
      "outputs": [],
      "source": [
        "# Parameters are randomly initialized\nx = tf.Variable(np.random.rand(2, 1))\n\n# We set the optimizer to be a Stochastic Gradient Descent\nopt = tf.keras.optimizers.SGD(learning_rate=0.01)\nstep = 15\n\n# Training process\nsteps = []\nsdg_losses = []\nfor _ in range(step):\n    with tf.GradientTape() as tape:\n        loss = new_cost(x)\n\n    steps.append(x)\n    sdg_losses.append(loss)\n\n    gradients = tape.gradient(loss, [x])\n    opt.apply_gradients(zip(gradients, [x]))\n    print(f\"Step {_+1} - Loss = {loss}\")\n\nprint(f\"Final cost function: {new_cost(x).numpy()}\\nOptimized angles: {x.numpy()}\")"
      ]
    },
    {
      "cell_type": "markdown",
      "metadata": {},
      "source": [
        "::: {.rst-class}\nsphx-glr-script-out\n\nOut:\n\n``` {.none}\nStep 1 - Loss = [-4.1700805]\nStep 2 - Loss = [-4.67503588]\nStep 3 - Loss = [-5.09949909]\nStep 4 - Loss = [-5.40388533]\nStep 5 - Loss = [-5.59529203]\nStep 6 - Loss = [-5.70495197]\nStep 7 - Loss = [-5.7642561]\nStep 8 - Loss = [-5.79533198]\nStep 9 - Loss = [-5.81138752]\nStep 10 - Loss = [-5.81966529]\nStep 11 - Loss = [-5.82396722]\nStep 12 - Loss = [-5.82624537]\nStep 13 - Loss = [-5.82749126]\nStep 14 - Loss = [-5.82820626]\nStep 15 - Loss = [-5.82864379]\nFinal cost function: -5.828932361904984\nOptimized angles: [[ 0.5865477 ]\n [-0.3228858]]\n```\n:::\n"
      ]
    },
    {
      "cell_type": "code",
      "execution_count": null,
      "metadata": {
        "collapsed": false
      },
      "outputs": [],
      "source": [
        "fig, ax = plt.subplots()\n\nplt.plot(sdg_losses, color=\"orange\", lw=3, label=\"SGD\")\n\nplt.plot(lstm_losses, color=\"blue\", lw=3, ls=\"-.\", label=\"LSTM\")\n\nplt.grid(ls=\"--\", lw=2, alpha=0.25)\nplt.legend()\nplt.ylabel(\"Cost function\", fontsize=12)\nplt.xlabel(\"Iteration\", fontsize=12)\nax.set_xticks([0, 5, 10, 15, 20]);\nplt.show()"
      ]
    },
    {
      "cell_type": "markdown",
      "metadata": {},
      "source": [
        "![](../demonstrations/learning2learn/rendered_LossConfrontation.png){.align-center\nwidth=\"70.0%\"}\n"
      ]
    },
    {
      "cell_type": "markdown",
      "metadata": {},
      "source": [
        "*Hurray!* \ud83c\udf89\ud83c\udf89\n\nAs is clear from the picture, the RNN reaches a better minimum in fewer\niterations than the standard SGD. Thus, as the authors suggest, the\ntrained RNN can be used for a few iterations at the start of the\ntraining procedure to initialize the parameters of the quantum circuit\nclose to an optimal solution. Then, a standard optimizer like the SGD\ncan be used to fine-tune the proposed parameters and reach even better\nsolutions. While on this small scale example the benefits of using an\nLSTM to initialize parameters may seem modest, on more complicated\ninstances and problems it can make a big difference, since, on random\ninitialization of the parameters, standard local optimizer may encounter\nproblems finding a good minimization direction (for further details,\nsee,).\n"
      ]
    },
    {
      "cell_type": "markdown",
      "metadata": {},
      "source": [
        "Final remarks\n=============\n\nIn this demo, we saw how to use a recurrent neural network as a\nblack-box optimizer to initialize the parameters in a variational\nquantum circuit close to an optimal solution. We connected MaxCut QAOA\nquantum circuits in PennyLane with an LSTM built with TensorFlow, and we\nused a custom hybrid training routine to optimize the whole network.\n\nSuch architecture proved itself to be a good candidate for the\ninitialization problem of Variational Quantum Algorithms, since it\nreaches good optimal solutions in very few iterations. Besides, the\narchitecture is quite general since the same machinery can be used for\ngraphs having a generic number of nodes (see \\\"Generalization\nPerformances\\\" in the Appendix).\n\n**What's next?**\n\nBut the story does not end here. There are multiple ways this work could\nbe improved. Here are a few:\n\n-   Use the proposed architecture for VQAs other than QAOA for MaxCut.\n    You can check the paper to get some inspiration.\n-   Scale up the simulation, using bigger graphs and longer recurrent\n    loops.\n-   While working correctly, the training routine is quite basic and it\n    could be improved for example by implementing batch learning or a\n    stopping criterion. Also, one could implement the *observed\n    improvement* loss function, as used in the original paper .\n-   Depending on the problem, you may wish to transform the functions\n    `rnn_iteration` and `recurrent_loop` to actual `Keras Layers` and\n    `Models`. This way, by compiling the model before the training takes\n    place, `TensorFlow` can create the computational graph of the model\n    and train more efficiently. You can find some ideas below to start\n    working on it.\n\nIf you\\'re interested, in the Appendix below you can find some more\ndetails and insights about this model. Go check it out!\n\nIf you have any doubt, or wish to discuss about the project don't\nhesitate to contact me, I'll be very happy to help you as much as I can\n\ud83d\ude01\n\nHave a great quantum day!\n"
      ]
    },
    {
      "cell_type": "markdown",
      "metadata": {},
      "source": [
        "References\n==========\n"
      ]
    },
    {
      "cell_type": "markdown",
      "metadata": {},
      "source": [
        "Appendix\n========\n\nIn this appendix you can find further details about the Learning to\nLearn approach introduced in this tutorial.\n\nGeneralization performances\n---------------------------\n\nA very interesting feature of this model, is that it can be\nstraightforwardly applied to graphs having a different number of nodes.\nIn fact, until now our analysis focused only on graphs with the same\nnumber of nodes for ease of explanation, and there is no actual\nrestriction in this respect. The same machinery works fine for any\ngraph, since the number of QAOA parameters are only dependent on the\nnumber of layers in the ansatz, and not on the number of qubits (equal\nto the number of nodes in the graph) in the quantum circuit.\n\nThus, we might want to challenge our model to learn a good\ninitialization heuristic for a non-specific graph, with an arbitrary\nnumber of nodes. For this purpose, let's create a training dataset\ncontaining graphs with a different number of nodes $n$, taken in the\ninterval $n \\in [7,9]$ (that is, our dataset now contains graphs having\neither 7, 8 and 9 nodes).\n"
      ]
    },
    {
      "cell_type": "code",
      "execution_count": null,
      "metadata": {
        "collapsed": false
      },
      "outputs": [],
      "source": [
        "cell = tf.keras.layers.LSTMCell(2 * n_layers)\n\ng7 = generate_graphs(5, 7, 3 / 7)\ng8 = generate_graphs(5, 8, 3 / 7)\ng9 = generate_graphs(5, 9, 3 / 7)\n\ngs = g7 + g8 + g9\ngs_cost_list = [qaoa_from_graph(g) for g in gs]\n\n# Shuffle the dataset\nimport random\nrandom.seed(1234)\nrandom.shuffle(gs_cost_list)"
      ]
    },
    {
      "cell_type": "markdown",
      "metadata": {},
      "source": [
        "So far, we have created an equally balanced dataset that contains graphs\nwith a different number of nodes. We now use this dataset to train the\nLSTM.\n"
      ]
    },
    {
      "cell_type": "code",
      "execution_count": null,
      "metadata": {
        "collapsed": false
      },
      "outputs": [],
      "source": [
        "# Select an optimizer\nopt = tf.keras.optimizers.Adam(learning_rate=0.1)\n\n# Set the number of training epochs\nepochs = 3\n\nfor epoch in range(epochs):\n    print(f\"Epoch {epoch+1}\")\n    total_loss = np.array([])\n    for i, graph_cost in enumerate(gs_cost_list):\n        loss = train_step(graph_cost)\n        total_loss = np.append(total_loss, loss.numpy())\n        # Log every 5 batches.\n        if i % 5 == 0:\n            print(f\" > Graph {i+1}/{len(gs_cost_list)} - Loss: {loss}\")\n    print(f\" >> Mean Loss during epoch: {np.mean(total_loss)}\")"
      ]
    },
    {
      "cell_type": "markdown",
      "metadata": {},
      "source": [
        "::: {.rst-class}\nsphx-glr-script-out\n\nOut:\n\n``` {.none}\nEpoch 1\n> Graph 1/15 - Loss: [[-1.4876363]]\n> Graph 6/15 - Loss: [[-1.8590403]]\n> Graph 11/15 - Loss: [[-1.7644017]]\n>> Mean Loss during epoch: -1.9704322338104248\nEpoch 2\n> Graph 1/15 - Loss: [[-1.8650053]]\n> Graph 6/15 - Loss: [[-1.9578737]]\n> Graph 11/15 - Loss: [[-1.8377447]]\n>> Mean Loss during epoch: -2.092947308222453\nEpoch 3\n> Graph 1/15 - Loss: [[-1.9009062]]\n> Graph 6/15 - Loss: [[-1.9726204]]\n> Graph 11/15 - Loss: [[-1.8668792]]\n>> Mean Loss during epoch: -2.1162660201390584\n```\n:::\n"
      ]
    },
    {
      "cell_type": "markdown",
      "metadata": {},
      "source": [
        "Let's check if this hybrid model eventually learned a good heuristic to\npropose new updates for the parameters in the QAOA ansatz of the MaxCut\nproblem.\n\nFor this reason, we consider a new graph. In particular, we can take a\ngraph with 10 nodes, which is something that the recurrent network has\nnot seen before.\n"
      ]
    },
    {
      "cell_type": "code",
      "execution_count": null,
      "metadata": {
        "collapsed": false
      },
      "outputs": [],
      "source": [
        "new_graph = nx.gnp_random_graph(10, p=3 / 7)\nnew_cost = qaoa_from_graph(new_graph)\n\nnx.draw(new_graph)"
      ]
    },
    {
      "cell_type": "markdown",
      "metadata": {},
      "source": [
        "![](../demonstrations/learning2learn/rendered_Graph10.png){.align-center\nwidth=\"70.0%\"}\n"
      ]
    },
    {
      "cell_type": "markdown",
      "metadata": {},
      "source": [
        "We call the trained recurrent LSTM on this graph, saving not only the\nlast, but all intermediate guesses for the parameters.\n"
      ]
    },
    {
      "cell_type": "code",
      "execution_count": null,
      "metadata": {
        "collapsed": false
      },
      "outputs": [],
      "source": [
        "res = recurrent_loop(new_cost, intermediate_steps=True)\n\n# Extract all angle suggestions\nstart_zeros = tf.zeros(shape=(2 * n_layers, 1))\nguess_0 = res[0]\nguess_1 = res[1]\nguess_2 = res[2]\nguess_3 = res[3]\nguess_4 = res[4]\nfinal_loss = res[5]\n\n# Wrap them into a list\nguesses = [start_zeros, guess_0, guess_1, guess_2, guess_3, guess_4]\n\n# Losses from the hybrid LSTM model\nlstm_losses = [new_cost(tf.reshape(guess, shape=(2, n_layers))) for guess in guesses]\n\nfig, ax = plt.subplots()\n\nplt.plot(lstm_losses, color=\"blue\", lw=3, ls=\"-.\", label=\"LSTM\")\n\nplt.grid(ls=\"--\", lw=2, alpha=0.25)\nplt.legend()\nplt.ylabel(\"Cost function\", fontsize=12)\nplt.xlabel(\"Iteration\", fontsize=12)\nax.set_xticks([0, 5, 10, 15, 20]);\nplt.show()"
      ]
    },
    {
      "cell_type": "markdown",
      "metadata": {},
      "source": [
        "![](../demonstrations/learning2learn/rendered_LossGeneralization.png){.align-center\nwidth=\"70.0%\"}\n"
      ]
    },
    {
      "cell_type": "markdown",
      "metadata": {},
      "source": [
        "Again, we can confirm that the custom optimizer based on the LSTM\nquickly reaches a good value of the loss function, and also achieve good\ngeneralization performances, since it is able to initialize parameters\nalso for graphs not present in the training set.\n\n::: {.note}\n::: {.title}\nNote\n:::\n\nTo get the optimized weights of the LSTM use:\n`optimized_weights = cell.get_weights()`. To set initial weights for the\nLSTM cell, use instead: `cell.set_weights(optimized_weights)`.\n:::\n\nLoss landscape in parameter space\n=================================\n\nIt may be interesting to plot the path suggested by the RNN in the space\nof the parameters. Note that this is possible only if one layer is used\nin the QAOA ansatz since in this case only two angles are needed and\nthey can be plotted on a 2D plane. Of course, if more layers are used,\nyou can always select a pair of them to reproduce a similar plot.\n\n::: {.note}\n::: {.title}\nNote\n:::\n\nThis cell takes approx. \\~1m to run with an 11 by 11 grid\n:::\n"
      ]
    },
    {
      "cell_type": "code",
      "execution_count": null,
      "metadata": {
        "collapsed": false
      },
      "outputs": [],
      "source": [
        "# Evaluate the cost function on a grid in parameter space\ndx = dy = np.linspace(-1.0, 1.0, 11)\ndz = np.array([new_cost([[xx], [yy]]).numpy() for yy in dy for xx in dx])\nZ = dz.reshape((11, 11))\n\n# Plot cost landscape\nplt.contourf(dx, dy, Z)\nplt.colorbar()\n\n# Extract optimizer steps\nparams_x = [0.0] + [res[i].numpy()[0, 0] for i in range(len(res[:-1]))]\nparams_y = [0.0] + [res[i].numpy()[0, 1] for i in range(len(res[:-1]))]\n\n# Plot steps\nplt.plot(params_x, params_y, linestyle=\"--\", color=\"red\", marker=\"x\")\n\nplt.yticks(np.linspace(-1, 1, 5))\nplt.xticks(np.linspace(-1, 1, 5))\nplt.xlabel(r\"$\\alpha$\", fontsize=12)\nplt.ylabel(r\"$\\gamma$\", fontsize=12)\nplt.title(\"Loss Landscape\", fontsize=12)\nplt.show()"
      ]
    },
    {
      "cell_type": "markdown",
      "metadata": {},
      "source": [
        "![](../demonstrations/learning2learn/rendered_LossLandscape.png){.align-center\nwidth=\"70.0%\"}\n\nIdeas for creating a Keras Layer and Keras Model\n================================================\n\nDefinition of a `Keras Layer` containing a single pass through the LSTM\nand the Quantum Circuit. That's equivalent to the function\n`rnn_iteration` from before.\n"
      ]
    },
    {
      "cell_type": "code",
      "execution_count": null,
      "metadata": {
        "collapsed": false
      },
      "outputs": [],
      "source": [
        "class QRNN(tf.keras.layers.Layer):\n    def __init__(self, p=1, graph=None):\n        super(QRNN, self).__init__()\n        # p is the number of layers in the QAOA ansatz\n        self.cell = tf.keras.layers.LSTMCell(2 * p)\n        self.expectation = qaoa_from_graph(graph, n_layers=p)\n        self.qaoa_p = p\n\n    def call(self, inputs):\n        prev_cost = inputs[0]\n        prev_params = inputs[1]\n        prev_h = inputs[2]\n        prev_c = inputs[3]\n\n        # Concatenate the previous parameters and previous cost to create new input\n        new_input = tf.keras.layers.concatenate([prev_cost, prev_params])\n\n        # New parameters obtained by the LSTM cell, along with new internal states h and c\n        new_params, [new_h, new_c] = self.cell(new_input, states=[prev_h, prev_c])\n\n        # This part is used to feed the parameters to the PennyLane function\n        _params = tf.reshape(new_params, shape=(2, self.qaoa_p))\n\n        # Cost evaluation, and reshaping to be consistent with other Keras tensors\n        new_cost = tf.reshape(tf.cast(self.expectation(_params), dtype=tf.float32), shape=(1, 1))\n\n        return [new_cost, new_params, new_h, new_c]"
      ]
    },
    {
      "cell_type": "markdown",
      "metadata": {},
      "source": [
        "Code for creating an actual `Keras Model` starting from the previous\nlayer definition.\n"
      ]
    },
    {
      "cell_type": "code",
      "execution_count": null,
      "metadata": {
        "collapsed": false
      },
      "outputs": [],
      "source": [
        "_graph = nx.gnp_random_graph(7, p=3 / 7)\n\n# Instantiate the LSTM cells\nrnn0 = QRNN(graph=_graph)\n\n# Create some input layers to feed the data\ninp_cost = tf.keras.layers.Input(shape=(1,))\ninp_params = tf.keras.layers.Input(shape=(2,))\ninp_h = tf.keras.layers.Input(shape=(2,))\ninp_c = tf.keras.layers.Input(shape=(2,))\n\n# Manually creating the recurrent loops. In this case just three iterations are used.\nout0 = rnn0([inp_cost, inp_params, inp_h, inp_c])\nout1 = rnn0(out0)\nout2 = rnn0(out1)\n\n# Definition of a loss function driving the training of the LSTM\nloss = tf.keras.layers.average([0.15 * out0[0], 0.35 * out1[0], 0.5 * out2[0]])\n\n# Definition of a Keras Model\nmodel = tf.keras.Model(\n    inputs=[inp_cost, inp_params, inp_h, inp_c], outputs=[out0[1], out1[1], out2[1], loss]\n)\n\nmodel.summary()"
      ]
    },
    {
      "cell_type": "markdown",
      "metadata": {},
      "source": [
        "::: {.rst-class}\nsphx-glr-script-out\n\nOut:\n\n``` {.none}\nModel: \"functional_1\"\n__________________________________________________________________________________________________\nLayer (type)                    Output Shape         Param #     Connected to                     \n==================================================================================================\ninput_1 (InputLayer)            [(None, 1)]          0                                            \n__________________________________________________________________________________________________\ninput_2 (InputLayer)            [(None, 2)]          0                                            \n__________________________________________________________________________________________________\ninput_3 (InputLayer)            [(None, 2)]          0                                            \n__________________________________________________________________________________________________\ninput_4 (InputLayer)            [(None, 2)]          0                                            \n__________________________________________________________________________________________________\nqrnn (QRNN)                     [(1, 1), (None, 2),  48          input_1[0][0]                    \n                                                                input_2[0][0]                    \n                                                                input_3[0][0]                    \n                                                                input_4[0][0]                    \n                                                                qrnn[0][0]                       \n                                                                qrnn[0][1]                       \n                                                                qrnn[0][2]                       \n                                                                qrnn[0][3]                       \n                                                                qrnn[1][0]                       \n                                                                qrnn[1][1]                       \n                                                                qrnn[1][2]                       \n                                                                qrnn[1][3]                       \n__________________________________________________________________________________________________\ntf.math.multiply (TFOpLambda)   (1, 1)               0           qrnn[0][0]                       \n__________________________________________________________________________________________________\ntf.math.multiply_1 (TFOpLambda) (1, 1)               0           qrnn[1][0]                       \n__________________________________________________________________________________________________\ntf.math.multiply_2 (TFOpLambda) (1, 1)               0           qrnn[2][0]                       \n__________________________________________________________________________________________________\naverage_147 (Average)           (1, 1)               0           tf.math.multiply[0][0]           \n                                                                tf.math.multiply_1[0][0]         \n                                                                tf.math.multiply_2[0][0]         \n==================================================================================================\nTotal params: 48\nTrainable params: 48\nNon-trainable params: 0\n```\n:::\n"
      ]
    },
    {
      "cell_type": "markdown",
      "metadata": {},
      "source": [
        "A basic training routine for the `Keras Model` just created:\n"
      ]
    },
    {
      "cell_type": "code",
      "execution_count": null,
      "metadata": {
        "collapsed": false
      },
      "outputs": [],
      "source": [
        "p = 1\n\ninp_costA = tf.zeros(shape=(1, 1))\ninp_paramsA = tf.zeros(shape=(1, 2 * p))\ninp_hA = tf.zeros(shape=(1, 2 * p))\ninp_cA = tf.zeros(shape=(1, 2 * p))\n\ninputs = [inp_costA, inp_paramsA, inp_hA, inp_cA]\n\nopt = tf.keras.optimizers.Adam(learning_rate=0.01)\nstep = 5\n\nfor _ in range(step):\n    with tf.GradientTape() as tape:\n        pred = model(inputs)\n        loss = pred[3]\n\n    gradients = tape.gradient(loss, model.trainable_variables)\n    opt.apply_gradients(zip(gradients, model.trainable_variables))\n    print(\n        f\"Step {_+1} - Loss = {loss} - Cost = {qaoa_from_graph(_graph, n_layers=p)(np.reshape(pred[2].numpy(),(2, p)))}\"\n    )\n\nprint(\"Final Loss:\", loss.numpy())\nprint(\"Final Outs:\")\nfor t, s in zip(pred, [\"out0\", \"out1\", \"out2\", \"Loss\"]):\n    print(f\" >{s}: {t.numpy()}\")"
      ]
    },
    {
      "cell_type": "markdown",
      "metadata": {},
      "source": [
        "::: {.rst-class}\nsphx-glr-script-out\n\nOut:\n\n``` {.none}\nStep 1 - Loss = [[-1.5563084]] - Cost = -4.762684301954701\nStep 2 - Loss = [[-1.5649065]] - Cost = -4.799981173473755\nStep 3 - Loss = [[-1.5741502]] - Cost = -4.840036354736862\nStep 4 - Loss = [[-1.5841404]] - Cost = -4.883246647056216\nStep 5 - Loss = [[-1.5948243]] - Cost = -4.929228976649736\nFinal Loss: [[-1.5948243]]\nFinal Outs:\n>out0: [[-0.01041588  0.01016874]]\n>out1: [[-0.04530389  0.38148248]]\n>out2: [[-0.10258182  0.4134117 ]]\n>Loss: [[-1.5948243]]\n```\n:::\n"
      ]
    },
    {
      "cell_type": "markdown",
      "metadata": {},
      "source": [
        "::: {.note}\n::: {.title}\nNote\n:::\n\nThis code works only for a single graph at a time, since a graph was\nneeded to create the `QRNN` `Keras Layer` named `rnn0`. Thus, in order\nto actually train the RNN network for multiple graphs, the above\ntraining routine must be modified. Otherwise, you could find a way to\ndefine the model to accept as input a whole dataset of graphs, and not\njust a single one. Still, this might prove particularly hard, since\nTensorFlow deals with tensors, and is not able to directly manage other\ndata structures, like graphs or functions taking graphs as input, like\n`qaoa_from_graph`.\n:::\n"
      ]
    }
  ],
  "metadata": {
    "kernelspec": {
      "display_name": "Python 3",
      "language": "python",
      "name": "python3"
    },
    "language_info": {
      "codemirror_mode": {
        "name": "ipython",
        "version": 3
      },
      "file_extension": ".py",
      "mimetype": "text/x-python",
      "name": "python",
      "nbconvert_exporter": "python",
      "pygments_lexer": "ipython3",
      "version": "3.7.12"
    }
  },
  "nbformat": 4,
  "nbformat_minor": 0
}