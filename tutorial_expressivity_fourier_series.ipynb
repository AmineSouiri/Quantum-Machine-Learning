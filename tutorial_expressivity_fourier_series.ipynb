{
  "cells": [
    {
      "cell_type": "code",
      "execution_count": null,
      "metadata": {
        "collapsed": false
      },
      "outputs": [],
      "source": [
        "# This cell is added by sphinx-gallery\n# It can be customized to whatever you like\n%matplotlib inline"
      ]
    },
    {
      "cell_type": "markdown",
      "metadata": {},
      "source": [
        "Quantum models as Fourier series\n================================\n\n::: {.meta}\n:property=\\\"og:description\\\": The class of functions a quantum model can\nlearn is characterized by the structure of its corresponding Fourier\nseries. :property=\\\"og:image\\\":\n<https://pennylane.ai/qml/_images/scheme.png>\n:::\n\n::: {.related}\ntutorial\\_data\\_reuploading\\_classifier Data-reuploading classifier\n:::\n\n*Author: PennyLane dev team. Last updated: 15 Jan 2021.*\n"
      ]
    },
    {
      "cell_type": "markdown",
      "metadata": {},
      "source": [
        "This demonstration is based on the paper *The effect of data encoding on\nthe expressive power of variational quantum machine learning models* by\n[Schuld, Sweke, and Meyer (2020)](https://arxiv.org/abs/2008.08605).\n\n![](../demonstrations/expressivity_fourier_series/scheme_thumb.png){.align-center\nwidth=\"50.0%\"}\n"
      ]
    },
    {
      "cell_type": "markdown",
      "metadata": {},
      "source": [
        "The paper links common quantum machine learning models designed for\nnear-term quantum computers to Fourier series (and, in more general, to\nFourier-type sums). With this link, the class of functions a quantum\nmodel can learn (i.e., its \\\"expressivity\\\") can be characterized by the\nmodel\\'s control of the Fourier series\\' frequencies and coefficients.\n"
      ]
    },
    {
      "cell_type": "markdown",
      "metadata": {},
      "source": [
        "Background\n==========\n"
      ]
    },
    {
      "cell_type": "markdown",
      "metadata": {},
      "source": [
        "Ref. considers quantum machine learning models of the form\n\n$$f_{\\boldsymbol \\theta}(x) = \\langle 0| U^{\\dagger}(x,\\boldsymbol \\theta) M U(x, \\boldsymbol \\theta) | 0 \\rangle$$\n\nwhere $M$ is a measurement observable and $U(x, \\boldsymbol \\theta)$ is\na variational quantum circuit that encodes a data input $x$ and depends\non a set of parameters $\\boldsymbol \\theta$. Here we will restrict\nourselves to one-dimensional data inputs, but the paper motivates that\nhigher-dimensional features simply generalize to multi-dimensional\nFourier series.\n\nThe circuit itself repeats $L$ layers, each consisting of a\ndata-encoding circuit block $S(x)$ and a trainable circuit block\n$W(\\boldsymbol \\theta)$ that is controlled by the parameters\n$\\boldsymbol \\theta$. The data encoding block consists of gates of the\nform $\\mathcal{G}(x) = e^{-ix H}$, where $H$ is a Hamiltonian. A\nprominent example of such gates are Pauli rotations.\n"
      ]
    },
    {
      "cell_type": "markdown",
      "metadata": {},
      "source": [
        "The paper shows how such a quantum model can be written as a\nFourier-type sum of the form\n\n$$f_{ \\boldsymbol \\theta}(x) = \\sum_{\\omega \\in \\Omega} c_{\\omega}( \\boldsymbol \\theta) \\; e^{i  \\omega x}.$$\n\nAs illustrated in the picture below (which is Figure 1 from the paper),\nthe \\\"encoding Hamiltonians\\\" in $S(x)$ determine the set $\\Omega$ of\navailable \\\"frequencies\\\", and the remainder of the circuit, including\nthe trainable parameters, determines the coefficients $c_{\\omega}$.\n"
      ]
    },
    {
      "cell_type": "markdown",
      "metadata": {},
      "source": [
        "![](../demonstrations/expressivity_fourier_series/scheme.png){.align-center\nwidth=\"50.0%\"}\n\n| \n"
      ]
    },
    {
      "cell_type": "markdown",
      "metadata": {},
      "source": [
        "The paper demonstrates many of its findings for circuits in which\n$\\mathcal{G}(x)$ is a single-qubit Pauli rotation gate. For example, it\nshows that $r$ repetitions of a Pauli rotation-encoding gate in\n\\\"sequence\\\" (on the same qubit, but with multiple layers $r=L$) or in\n\\\"parallel\\\" (on $r$ different qubits, with $L=1$) creates a quantum\nmodel that can be expressed as a *Fourier series* of the form\n\n$$f_{ \\boldsymbol \\theta}(x) = \\sum_{n \\in \\Omega} c_{n}(\\boldsymbol \\theta) e^{i  n x},$$\n\nwhere $\\Omega = \\{ -r, \\dots, -1, 0, 1, \\dots, r\\}$ is a spectrum of\nconsecutive integer-valued frequencies up to degree $r$.\n\nAs a result, we expect quantum models that encode an input $x$ by $r$\nPauli rotations to only be able to fit Fourier series of at most degree\n$r$.\n"
      ]
    },
    {
      "cell_type": "markdown",
      "metadata": {},
      "source": [
        "Goal of this demonstration\n==========================\n"
      ]
    },
    {
      "cell_type": "markdown",
      "metadata": {},
      "source": [
        "The experiments below investigate this \\\"Fourier-series\\\"-like nature of\nquantum models by showing how to reproduce the simulations underlying\nFigures 3, 4 and 5 in Section II of the paper:\n\n-   **Figures 3 and 4** are function-fitting experiments, where quantum\n    models with different encoding strategies have the task to fit\n    Fourier series up to a certain degree. As in the paper, we will use\n    examples of qubit-based quantum circuits where a single data feature\n    is encoded via Pauli rotations.\n-   **Figure 5** plots the Fourier coefficients of randomly sampled\n    instances from a family of quantum models which is defined by some\n    parametrized ansatz.\n\nThe code is presented so you can easily modify it in order to play\naround with other settings and models. The settings used in the paper\nare given in the various subsections.\n"
      ]
    },
    {
      "cell_type": "markdown",
      "metadata": {},
      "source": [
        "First of all, let\\'s make some imports and define a standard loss\nfunction for the training.\n"
      ]
    },
    {
      "cell_type": "code",
      "execution_count": null,
      "metadata": {
        "collapsed": false
      },
      "outputs": [],
      "source": [
        "import matplotlib.pyplot as plt\nimport pennylane as qml\nfrom pennylane import numpy as np\n\nnp.random.seed(42)\n\ndef square_loss(targets, predictions):\n    loss = 0\n    for t, p in zip(targets, predictions):\n        loss += (t - p) ** 2\n    loss = loss / len(targets)\n    return 0.5*loss"
      ]
    },
    {
      "cell_type": "markdown",
      "metadata": {},
      "source": [
        "Part I: Fitting Fourier series with serial Pauli-rotation encoding\n==================================================================\n"
      ]
    },
    {
      "cell_type": "markdown",
      "metadata": {},
      "source": [
        "First we will reproduce Figures 3 and 4 from the paper. These show how\nquantum models that use Pauli rotations as data-encoding gates can only\nfit Fourier series up to a certain degree. The degree corresponds to the\nnumber of times that the Pauli gate gets repeated in the quantum model.\n\nLet us consider circuits where the encoding gate gets repeated\nsequentially (as in Figure 2a of the paper). For simplicity we will only\nlook at single-qubit circuits:\n\n![](../demonstrations/expressivity_fourier_series/single_qubit_model.png){.align-center\nwidth=\"50.0%\"}\n"
      ]
    },
    {
      "cell_type": "markdown",
      "metadata": {},
      "source": [
        "Define a target function\n========================\n"
      ]
    },
    {
      "cell_type": "markdown",
      "metadata": {},
      "source": [
        "We first define a (classical) target function which will be used as a\n\\\"ground truth\\\" that the quantum model has to fit. The target function\nis constructed as a Fourier series of a specific degree.\n\nWe also allow for a rescaling of the data by a hyperparameter `scaling`,\nwhich we will do in the quantum model as well. As shown in, for the\nquantum model to learn the classical model in the experiment below, the\nscaling of the quantum model and the target function have to match,\nwhich is an important observation for the design of quantum machine\nlearning models.\n"
      ]
    },
    {
      "cell_type": "code",
      "execution_count": null,
      "metadata": {
        "collapsed": false
      },
      "outputs": [],
      "source": [
        "degree = 1  # degree of the target function\nscaling = 1  # scaling of the data\ncoeffs = [0.15 + 0.15j]*degree  # coefficients of non-zero frequencies\ncoeff0 = 0.1  # coefficient of zero frequency\n\ndef target_function(x):\n    \"\"\"Generate a truncated Fourier series, where the data gets re-scaled.\"\"\"\n    res = coeff0\n    for idx, coeff in enumerate(coeffs):\n        exponent = np.complex128(scaling * (idx+1) * x * 1j)\n        conj_coeff = np.conjugate(coeff)\n        res += coeff * np.exp(exponent) + conj_coeff * np.exp(-exponent)\n    return np.real(res)"
      ]
    },
    {
      "cell_type": "markdown",
      "metadata": {},
      "source": [
        "Let\\'s have a look at it.\n"
      ]
    },
    {
      "cell_type": "code",
      "execution_count": null,
      "metadata": {
        "collapsed": false
      },
      "outputs": [],
      "source": [
        "x = np.linspace(-6, 6, 70, requires_grad=False)\ntarget_y = np.array([target_function(x_) for x_ in x], requires_grad=False)\n\nplt.plot(x, target_y, c='black')\nplt.scatter(x, target_y, facecolor='white', edgecolor='black')\nplt.ylim(-1, 1)\nplt.show();"
      ]
    },
    {
      "cell_type": "markdown",
      "metadata": {},
      "source": [
        "::: {.note}\n::: {.title}\nNote\n:::\n\nTo reproduce the figures in the paper, you can use the following\nsettings in the cells above:\n\n-   For the settings\n\n        degree = 1\n        coeffs = (0.15 + 0.15j) * degree \n        coeff0 = 0.1\n\n    this function is the ground truth\n    $g(x) = \\sum_{n=-1}^1 c_{n} e^{-nix}$ from Figure 3 in the paper.\n\n-   To get the ground truth $g'(x) = \\sum_{n=-2}^2 c_{n} e^{-nix}$ with\n    $c_0=0.1$, $c_1 = c_2 = 0.15 - 0.15i$ from Figure 3, you need to\n    increase the degree to two:\n\n        degree = 2\n\n-   The ground truth from Figure 4 can be reproduced by changing the\n    settings to:\n\n        degree = 5 \n        coeffs = (0.05 + 0.05j) * degree \n        coeff0 = 0.0 \n:::\n"
      ]
    },
    {
      "cell_type": "markdown",
      "metadata": {},
      "source": [
        "Define the serial quantum model\n===============================\n"
      ]
    },
    {
      "cell_type": "markdown",
      "metadata": {},
      "source": [
        "We now define the quantum model itself.\n"
      ]
    },
    {
      "cell_type": "code",
      "execution_count": null,
      "metadata": {
        "collapsed": false
      },
      "outputs": [],
      "source": [
        "scaling = 1\n\ndev = qml.device('default.qubit', wires=1)\n\ndef S(x):\n    \"\"\"Data-encoding circuit block.\"\"\"\n    qml.RX(scaling * x, wires=0)\n\ndef W(theta):\n    \"\"\"Trainable circuit block.\"\"\"\n    qml.Rot(theta[0], theta[1], theta[2], wires=0)\n\n    \n@qml.qnode(dev)\ndef serial_quantum_model(weights, x):\n    \n    for theta in weights[:-1]:\n        W(theta)\n        S(x)\n        \n    # (L+1)'th unitary\n    W(weights[-1])\n    \n    return qml.expval(qml.PauliZ(wires=0))"
      ]
    },
    {
      "cell_type": "markdown",
      "metadata": {},
      "source": [
        "You can run the following cell multiple times, each time sampling\ndifferent weights, and therefore different quantum models.\n"
      ]
    },
    {
      "cell_type": "code",
      "execution_count": null,
      "metadata": {
        "collapsed": false
      },
      "outputs": [],
      "source": [
        "r = 1 # number of times the encoding gets repeated (here equal to the number of layers)\nweights = 2 * np.pi * np.random.random(size=(r+1, 3), requires_grad=True) # some random initial weights\n\nx = np.linspace(-6, 6, 70, requires_grad=False)\nrandom_quantum_model_y = [serial_quantum_model(weights, x_) for x_ in x]\n\nplt.plot(x, random_quantum_model_y, c='blue')\nplt.ylim(-1,1)\nplt.show()"
      ]
    },
    {
      "cell_type": "markdown",
      "metadata": {},
      "source": [
        "No matter what weights are picked, the single qubit model for\n[L=1]{.title-ref} will always be a sine function of a fixed frequency.\nThe weights merely influence the amplitude, y-shift, and phase of the\nsine.\n\nThis observation is formally derived in Section II.A of the paper.\n"
      ]
    },
    {
      "cell_type": "markdown",
      "metadata": {},
      "source": [
        "::: {.note}\n::: {.title}\nNote\n:::\n\nYou can increase the number of layers. Figure 4 from the paper, for\nexample, uses the settings `L=1`, `L=3` and `L=5`.\n:::\n"
      ]
    },
    {
      "cell_type": "markdown",
      "metadata": {},
      "source": [
        "Finally, let\\'s look at the circuit we just created:\n"
      ]
    },
    {
      "cell_type": "code",
      "execution_count": null,
      "metadata": {
        "collapsed": false
      },
      "outputs": [],
      "source": [
        "print(qml.draw(serial_quantum_model)(weights, x[-1]))"
      ]
    },
    {
      "cell_type": "markdown",
      "metadata": {},
      "source": [
        "Fit the model to the target\n===========================\n"
      ]
    },
    {
      "cell_type": "markdown",
      "metadata": {},
      "source": [
        "The next step is to optimize the weights in order to fit the ground\ntruth.\n"
      ]
    },
    {
      "cell_type": "code",
      "execution_count": null,
      "metadata": {
        "collapsed": false
      },
      "outputs": [],
      "source": [
        "def cost(weights, x, y):\n    predictions = [serial_quantum_model(weights, x_) for x_ in x]\n    return square_loss(y, predictions)\n\nmax_steps = 50\nopt = qml.AdamOptimizer(0.3)\nbatch_size = 25\ncst = [cost(weights, x, target_y)]  # initial cost\n\nfor step in range(max_steps):\n\n    # Select batch of data\n    batch_index = np.random.randint(0, len(x), (batch_size,))\n    x_batch = x[batch_index]\n    y_batch = target_y[batch_index]\n\n    # Update the weights by one optimizer step\n    weights, _, _ = opt.step(cost, weights, x_batch, y_batch)\n\n    # Save, and possibly print, the current cost\n    c = cost(weights, x, target_y)\n    cst.append(c)\n    if (step + 1) % 10 == 0:\n        print(\"Cost at step {0:3}: {1}\".format(step + 1, c))"
      ]
    },
    {
      "cell_type": "markdown",
      "metadata": {},
      "source": [
        "To continue training, you may just run the above cell again. Once you\nare happy, you can use the trained model to predict function values, and\ncompare them with the ground truth.\n"
      ]
    },
    {
      "cell_type": "code",
      "execution_count": null,
      "metadata": {
        "collapsed": false
      },
      "outputs": [],
      "source": [
        "predictions = [serial_quantum_model(weights, x_) for x_ in x]\n\nplt.plot(x, target_y, c='black')\nplt.scatter(x, target_y, facecolor='white', edgecolor='black')\nplt.plot(x, predictions, c='blue')\nplt.ylim(-1,1)\nplt.show();"
      ]
    },
    {
      "cell_type": "markdown",
      "metadata": {},
      "source": [
        "Let\\'s also have a look at the cost during training.\n"
      ]
    },
    {
      "cell_type": "code",
      "execution_count": null,
      "metadata": {
        "collapsed": false
      },
      "outputs": [],
      "source": [
        "plt.plot(range(len(cst)), cst)\nplt.ylabel(\"Cost\")\nplt.xlabel(\"Step\")\nplt.ylim(0, 0.23)\nplt.show();"
      ]
    },
    {
      "cell_type": "markdown",
      "metadata": {},
      "source": [
        "With the initial settings and enough training steps, the quantum model\nlearns to fit the ground truth perfectly. This is expected, since the\nnumber of Pauli-rotation-encoding gates and the degree of the ground\ntruth Fourier series are both one.\n\nIf the ground truth\\'s degree is larger than the number of layers in the\nquantum model, the fit will look much less accurate. And finally, we\nalso need to have the correct scaling of the data: if one of the models\nchanges the `scaling` parameter (which effectively scales the\nfrequencies), fitting does not work even with enough encoding\nrepetitions.\n"
      ]
    },
    {
      "cell_type": "markdown",
      "metadata": {},
      "source": [
        "::: {.note}\n::: {.title}\nNote\n:::\n\nYou will find that the training takes much longer, and needs a lot more\nsteps to converge for larger L. Some initial weights may not even\nconverge to a good solution at all; the training seems to get stuck in a\nminimum.\n\nIt is an open research question whether for asymptotically large L, the\nsingle qubit model can fit *any* function by constructing arbitrary\nFourier coefficients.\n:::\n"
      ]
    },
    {
      "cell_type": "markdown",
      "metadata": {},
      "source": [
        "Part II: Fitting Fourier series with parallel Pauli-rotation encoding\n=====================================================================\n"
      ]
    },
    {
      "cell_type": "markdown",
      "metadata": {},
      "source": [
        "Our next task is to repeat the function-fitting experiment for a circuit\nwhere the Pauli rotation gate gets repeated $r$ times on *different*\nqubits, using a single layer $L=1$.\n\nAs shown in the paper, we expect similar results to the serial model: a\nFourier series of degree $r$ can only be fitted if there are at least\n$r$ repetitions of the encoding gate in the quantum model. However, in\npractice this experiment is a bit harder, since the dimension of the\ntrainable unitaries $W$ grows quickly with the number of qubits.\n\nIn the paper, the investigations are made with the assumption that the\npurple trainable blocks $W$ are arbitrary unitaries. We could use the\n`~.pennylane.templates.ArbitraryUnitary`{.interpreted-text role=\"class\"}\ntemplate, but since this template requires a number of parameters that\ngrows exponentially with the number of qubits ($4^L-1$ to be precise),\nthis quickly becomes cumbersome to train.\n\nWe therefore follow Figure 4 in the paper and use an ansatz for $W$.\n"
      ]
    },
    {
      "cell_type": "markdown",
      "metadata": {},
      "source": [
        "![](../demonstrations/expressivity_fourier_series/parallel_model.png){.align-center\nwidth=\"70.0%\"}\n"
      ]
    },
    {
      "cell_type": "markdown",
      "metadata": {},
      "source": [
        "Define the parallel quantum model\n=================================\n"
      ]
    },
    {
      "cell_type": "markdown",
      "metadata": {},
      "source": [
        "The ansatz is PennyLane\\'s layer structure called\n`~.pennylane.templates.StronglyEntanglingLayers`{.interpreted-text\nrole=\"class\"}, and as the name suggests, it has itself a user-defined\nnumber of layers (which we will call \\\"ansatz layers\\\" to avoid\nconfusion).\n"
      ]
    },
    {
      "cell_type": "code",
      "execution_count": null,
      "metadata": {
        "collapsed": false
      },
      "outputs": [],
      "source": [
        "from pennylane.templates import StronglyEntanglingLayers"
      ]
    },
    {
      "cell_type": "markdown",
      "metadata": {},
      "source": [
        "Let\\'s have a quick look at the ansatz itself for 3 qubits by making a\ndummy circuit of 2 ansatz layers:\n"
      ]
    },
    {
      "cell_type": "code",
      "execution_count": null,
      "metadata": {
        "collapsed": false
      },
      "outputs": [],
      "source": [
        "n_ansatz_layers = 2\nn_qubits = 3\n\ndev = qml.device('default.qubit', wires=4)\n\n@qml.qnode(dev)\ndef ansatz(weights):\n    StronglyEntanglingLayers(weights, wires=range(n_qubits))\n    return qml.expval(qml.Identity(wires=0))\n\nweights_ansatz = 2 * np.pi * np.random.random(size=(n_ansatz_layers, n_qubits, 3))\nprint(qml.draw(ansatz, expansion_strategy=\"device\")(weights_ansatz))"
      ]
    },
    {
      "cell_type": "markdown",
      "metadata": {},
      "source": [
        "Now we define the actual quantum model.\n"
      ]
    },
    {
      "cell_type": "code",
      "execution_count": null,
      "metadata": {
        "collapsed": false
      },
      "outputs": [],
      "source": [
        "scaling = 1\nr = 3\n\ndev = qml.device('default.qubit', wires=r)\n\ndef S(x):\n    \"\"\"Data-encoding circuit block.\"\"\"\n    for w in range(r):\n        qml.RX(scaling * x, wires=w)\n\ndef W(theta):\n    \"\"\"Trainable circuit block.\"\"\"\n    StronglyEntanglingLayers(theta, wires=range(r))\n\n    \n@qml.qnode(dev)\ndef parallel_quantum_model(weights, x):\n    \n    W(weights[0])\n    S(x)        \n    W(weights[1])\n    \n    return qml.expval(qml.PauliZ(wires=0))"
      ]
    },
    {
      "cell_type": "markdown",
      "metadata": {},
      "source": [
        "Again, you can sample random weights and plot the model function:\n"
      ]
    },
    {
      "cell_type": "code",
      "execution_count": null,
      "metadata": {
        "collapsed": false
      },
      "outputs": [],
      "source": [
        "trainable_block_layers = 3\nweights = 2 * np.pi * np.random.random(size=(2, trainable_block_layers, r, 3), requires_grad=True)\n\nx = np.linspace(-6, 6, 70, requires_grad=False)\nrandom_quantum_model_y = [parallel_quantum_model(weights, x_) for x_ in x]\n\nplt.plot(x, random_quantum_model_y, c='blue')\nplt.ylim(-1,1)\nplt.show();"
      ]
    },
    {
      "cell_type": "markdown",
      "metadata": {},
      "source": [
        "Training the model\n==================\n"
      ]
    },
    {
      "cell_type": "markdown",
      "metadata": {},
      "source": [
        "Training the model is done exactly as before, but it may take a lot\nlonger this time. We set a default of 25 steps, which you should\nincrease if necessary. Small models of \\<6 qubits usually converge after\na few hundred steps at most---but this depends on your settings.\n"
      ]
    },
    {
      "cell_type": "code",
      "execution_count": null,
      "metadata": {
        "collapsed": false
      },
      "outputs": [],
      "source": [
        "def cost(weights, x, y):\n    predictions = [parallel_quantum_model(weights, x_) for x_ in x]\n    return square_loss(y, predictions)\n\nmax_steps = 50\nopt = qml.AdamOptimizer(0.3)\nbatch_size = 25\ncst = [cost(weights, x, target_y)]  # initial cost\n\nfor step in range(max_steps):\n\n    # select batch of data\n    batch_index = np.random.randint(0, len(x), (batch_size,))\n    x_batch = x[batch_index]\n    y_batch = target_y[batch_index]\n\n    # update the weights by one optimizer step\n    weights, _, _ = opt.step(cost, weights, x_batch, y_batch)\n    \n    # save, and possibly print, the current cost\n    c = cost(weights, x, target_y)\n    cst.append(c)\n    if (step + 1) % 10 == 0:\n        print(\"Cost at step {0:3}: {1}\".format(step + 1, c))"
      ]
    },
    {
      "cell_type": "code",
      "execution_count": null,
      "metadata": {
        "collapsed": false
      },
      "outputs": [],
      "source": [
        "predictions = [parallel_quantum_model(weights, x_) for x_ in x]\n\nplt.plot(x, target_y, c='black')\nplt.scatter(x, target_y, facecolor='white', edgecolor='black')\nplt.plot(x, predictions, c='blue')\nplt.ylim(-1,1)\nplt.show();"
      ]
    },
    {
      "cell_type": "code",
      "execution_count": null,
      "metadata": {
        "collapsed": false
      },
      "outputs": [],
      "source": [
        "plt.plot(range(len(cst)), cst)\nplt.ylabel(\"Cost\")\nplt.xlabel(\"Step\")\nplt.show();"
      ]
    },
    {
      "cell_type": "markdown",
      "metadata": {},
      "source": [
        "::: {.note}\n::: {.title}\nNote\n:::\n\nTo reproduce the right column in Figure 4 from the paper, use the\ncorrect ground truth, $r=3$ and `trainable_block_layers=3`, as well as\nsufficiently many training steps. The amount of steps depends on the\ninitial weights and other hyperparameters, and in some settings training\nmay not converge to zero error at all.\n:::\n"
      ]
    },
    {
      "cell_type": "markdown",
      "metadata": {},
      "source": [
        "Part III: Sampling Fourier coefficients\n=======================================\n"
      ]
    },
    {
      "cell_type": "markdown",
      "metadata": {},
      "source": [
        "When we use a trainable ansatz above, it is possible that even with\nenough repetitions of the data-encoding Pauli rotation, the quantum\nmodel cannot fit the circuit, since the expressivity of quantum models\nalso depends on the Fourier coefficients the model can create.\n\nFigure 5 in shows Fourier coefficients from quantum models sampled from\na model family defined by an ansatz for the trainable circuit block. For\nthis we need a function that numerically computes the Fourier\ncoefficients of a periodic function f with period $2 \\pi$.\n"
      ]
    },
    {
      "cell_type": "code",
      "execution_count": null,
      "metadata": {
        "collapsed": false
      },
      "outputs": [],
      "source": [
        "def fourier_coefficients(f, K):\n    \"\"\"\n    Computes the first 2*K+1 Fourier coefficients of a 2*pi periodic function.\n    \"\"\"\n    n_coeffs = 2 * K + 1\n    t = np.linspace(0, 2 * np.pi, n_coeffs, endpoint=False)\n    y = np.fft.rfft(f(t)) / t.size\n    return y"
      ]
    },
    {
      "cell_type": "markdown",
      "metadata": {},
      "source": [
        "Define your quantum model\n=========================\n"
      ]
    },
    {
      "cell_type": "markdown",
      "metadata": {},
      "source": [
        "Now we need to define a quantum model. This could be any model, using a\nqubit or continuous-variable circuit, or one of the quantum models from\nabove. We will use a slight derivation of the `parallel_qubit_model()`\nfrom above, this time using the\n`~.pennylane.templates.BasicEntanglerLayers`{.interpreted-text\nrole=\"class\"} ansatz:\n"
      ]
    },
    {
      "cell_type": "code",
      "execution_count": null,
      "metadata": {
        "collapsed": false
      },
      "outputs": [],
      "source": [
        "from pennylane.templates import BasicEntanglerLayers\n\nscaling = 1\nn_qubits = 4\n\ndev = qml.device('default.qubit', wires=n_qubits)\n\ndef S(x):\n    \"\"\"Data encoding circuit block.\"\"\"\n    for w in range(n_qubits):\n        qml.RX(scaling * x, wires=w)\n\ndef W(theta):\n    \"\"\"Trainable circuit block.\"\"\"\n    BasicEntanglerLayers(theta, wires=range(n_qubits))\n\n    \n@qml.qnode(dev)\ndef quantum_model(weights, x):\n    \n    W(weights[0])\n    S(x)\n    W(weights[1])\n    \n    return qml.expval(qml.PauliZ(wires=0))"
      ]
    },
    {
      "cell_type": "markdown",
      "metadata": {},
      "source": [
        "It will also be handy to define a function that samples different random\nweights of the correct size for the model.\n"
      ]
    },
    {
      "cell_type": "code",
      "execution_count": null,
      "metadata": {
        "collapsed": false
      },
      "outputs": [],
      "source": [
        "n_ansatz_layers = 1\n\ndef random_weights():\n    return 2 * np.pi * np.random.random(size=(2, n_ansatz_layers, n_qubits))"
      ]
    },
    {
      "cell_type": "markdown",
      "metadata": {},
      "source": [
        "Now we can compute the first few Fourier coefficients for samples from\nthis model. The samples are created by randomly sampling different\nparameters using the `random_weights()` function.\n"
      ]
    },
    {
      "cell_type": "code",
      "execution_count": null,
      "metadata": {
        "collapsed": false
      },
      "outputs": [],
      "source": [
        "n_coeffs = 5\nn_samples = 100\n\n\ncoeffs = []\nfor i in range(n_samples):\n\n    weights = random_weights()\n\n    def f(x):\n        return np.array([quantum_model(weights, x_) for x_ in x])\n\n    coeffs_sample = fourier_coefficients(f, n_coeffs)\n    coeffs.append(coeffs_sample)\n\ncoeffs = np.array(coeffs)\ncoeffs_real = np.real(coeffs)\ncoeffs_imag = np.imag(coeffs)"
      ]
    },
    {
      "cell_type": "markdown",
      "metadata": {},
      "source": [
        "Let\\'s plot the real vs. the imaginary part of the coefficients. As a\nsanity check, the $c_0$ coefficient should be real, and therefore have\nno contribution on the y-axis.\n"
      ]
    },
    {
      "cell_type": "code",
      "execution_count": null,
      "metadata": {
        "collapsed": false
      },
      "outputs": [],
      "source": [
        "n_coeffs = len(coeffs_real[0])\n\nfig, ax = plt.subplots(1, n_coeffs, figsize=(15, 4))\n\nfor idx, ax_ in enumerate(ax):\n    ax_.set_title(r\"$c_{}$\".format(idx))\n    ax_.scatter(coeffs_real[:, idx], coeffs_imag[:, idx], s=20, \n                facecolor='white', edgecolor='red')\n    ax_.set_aspect(\"equal\")\n    ax_.set_ylim(-1, 1)\n    ax_.set_xlim(-1, 1)\n\n\nplt.tight_layout(pad=0.5)\nplt.show();"
      ]
    },
    {
      "cell_type": "markdown",
      "metadata": {},
      "source": [
        "Playing around with different quantum models, you will find that some\nquantum models create different distributions over the coefficients than\nothers. For example `BasicEntanglingLayers` (with the default Pauli-X\nrotation) seems to have a structure that forces the even Fourier\ncoefficients to zero, while `StronglyEntanglingLayers` will have a\nnon-zero variance for all supported coefficients.\n\nNote also how the variance of the distribution decreases for growing\norders of the coefficients---an effect linked to the convergence of a\nFourier series.\n"
      ]
    },
    {
      "cell_type": "markdown",
      "metadata": {},
      "source": [
        "::: {.note}\n::: {.title}\nNote\n:::\n\nTo reproduce the results from Figure 5 you have to change the ansatz (no\nunitary, `BasicEntanglerLayers` or `StronglyEntanglingLayers`, and set\n`n_ansatz_layers` either to $1$ or $5$). The `StronglyEntanglingLayers`\nrequires weights of shape `size=(2, n_ansatz_layers, n_qubits, 3)`.\n:::\n"
      ]
    },
    {
      "cell_type": "markdown",
      "metadata": {},
      "source": [
        "Continuous-variable model\n=========================\n\nRef. mentions that a phase rotation in continuous-variable quantum\ncomputing has a spectrum that supports *all* Fourier frequecies. To play\nwith this model, we finally show you the code for a continuous-variable\ncircuit. For example, to see its Fourier coefficients run the cell\nbelow, and then re-run the two cells above.\n"
      ]
    },
    {
      "cell_type": "code",
      "execution_count": null,
      "metadata": {
        "collapsed": false
      },
      "outputs": [],
      "source": [
        "var = 2\nn_ansatz_layers = 1\ndev_cv = qml.device('default.gaussian', wires=1)\n\ndef S(x):\n    qml.Rotation(x, wires=0)\n\ndef W(theta):\n    \"\"\"Trainable circuit block.\"\"\"\n    for r_ in range(n_ansatz_layers):\n        qml.Displacement(theta[0], theta[1], wires=0)\n        qml.Squeezing(theta[2], theta[3], wires=0)\n\n@qml.qnode(dev_cv)\ndef quantum_model(weights, x):\n    W(weights[0])\n    S(x)\n    W(weights[1])\n    return qml.expval(qml.X(wires=0))\n\ndef random_weights():\n    return np.random.normal(size=(2, 5 * n_ansatz_layers), loc=0, scale=var)"
      ]
    },
    {
      "cell_type": "markdown",
      "metadata": {},
      "source": [
        "::: {.note}\n::: {.title}\nNote\n:::\n\nTo find out what effect so-called \\\"non-Gaussian\\\" gates like the `Kerr`\ngate have, you need to install the [strawberryfields\nplugin](https://pennylane-sf.readthedocs.io/en/latest/) and change the\ndevice to\n\n``` {.python}\ndev_cv = qml.device('strawberryfields.fock', wires=1, cutoff_dim=50)\n```\n:::\n"
      ]
    },
    {
      "cell_type": "markdown",
      "metadata": {},
      "source": [
        "References\n==========\n"
      ]
    }
  ],
  "metadata": {
    "kernelspec": {
      "display_name": "Python 3",
      "language": "python",
      "name": "python3"
    },
    "language_info": {
      "codemirror_mode": {
        "name": "ipython",
        "version": 3
      },
      "file_extension": ".py",
      "mimetype": "text/x-python",
      "name": "python",
      "nbconvert_exporter": "python",
      "pygments_lexer": "ipython3",
      "version": "3.7.12"
    }
  },
  "nbformat": 4,
  "nbformat_minor": 0
}